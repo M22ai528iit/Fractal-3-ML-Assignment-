{
  "nbformat": 4,
  "nbformat_minor": 0,
  "metadata": {
    "colab": {
      "provenance": []
    },
    "kernelspec": {
      "name": "python3",
      "display_name": "Python 3"
    },
    "language_info": {
      "name": "python"
    }
  },
  "cells": [
    {
      "cell_type": "code",
      "execution_count": null,
      "metadata": {
        "id": "C9pAJ-8pIcDP"
      },
      "outputs": [],
      "source": [
        "import numpy as np\n",
        "import tensorflow as tf\n",
        "from tensorflow import keras\n",
        "import pandas as pd\n",
        "from matplotlib import pyplot as plt\n",
        "%matplotlib inline\n",
        "import os\n",
        "import cv2\n",
        "from keras.layers import Dense, Flatten\n",
        "In [2]:\n",
        "# Define the paths to your image folders\n",
        "train_path = 'C:\\\\Users\\\\biraj\\\\OneDrive\\\\PythonProjects\\\\Machine learning neural network\\\\'\n",
        "val_path = 'C:\\\\Users\\\\biraj\\\\OneDrive\\\\PythonProjects\\\\Machine learning neural network\\\\'\n",
        "In [3]:\n",
        "# Set the path to the folder containing the 'train' folder\n",
        "data_dir = train_path\n",
        "# Set the image size\n",
        "img_size = (32, 32)\n",
        "# Create empty lists for the images and labels\n",
        "images = []\n",
        "labels = []\n",
        "# Loop over each folder from '0' to '9'\n",
        "for label in range(10):\n",
        " folder_path = os.path.join(data_dir, 't"
      ]
    }
  ]
}