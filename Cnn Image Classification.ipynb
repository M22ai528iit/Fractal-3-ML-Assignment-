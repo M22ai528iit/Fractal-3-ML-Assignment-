{
  "nbformat": 4,
  "nbformat_minor": 0,
  "metadata": {
    "colab": {
      "provenance": []
    },
    "kernelspec": {
      "name": "python3",
      "display_name": "Python 3"
    },
    "language_info": {
      "name": "python"
    }
  },
  "cells": [
    {
      "cell_type": "code",
      "execution_count": null,
      "metadata": {
        "id": "4EQjJdqcH4vF"
      },
      "outputs": [],
      "source": [
        "import numpy as np\n",
        "import tensorflow as tf\n",
        "from tensorflow import keras\n",
        "from keras.models import Sequential\n",
        "import pandas as pd\n",
        "from matplotlib import pyplot as plt\n",
        "%matplotlib inline\n",
        "import os\n",
        "import cv2\n",
        "from keras.layers import Dense, Conv2D, MaxPooling2D, Flatten,GlobalAveragePooling2D\n",
        "from PIL import Image\n",
        "from sklearn.preprocessing import LabelEncoder\n",
        "from sklearn.metrics import confusion_matrix, classification_report\n",
        "In [2]:\n",
        "# Define the paths to your image and csv folders\n",
        "train_val_dir = \"F:\\\\M Tech\\\\FE Sem 2\\\\Machine Learning\\\\Neural Networks\\\\assignment 1\\\\image classification\\\\charts\\\\train_val\"\n",
        "test_dir = \"F:\\\\M Tech\\\\FE Sem 2\\\\Machine Learning\\\\Neural Networks\\\\assignment 1\\\\image classification\\\\charts\\\\test\"\n",
        "train_path_labels = \"F:\\\\M Tech\\\\FE Sem 2\\\\Machine Learning\\\\Neural Networks\\\\assignment 1\\\\image classification\\\\charts\\\\train_v\n",
        "train_val_labels = pd.read_csv(train_path_labels)\n",
        "In [3]:\n",
        "# load training dataset in numpy array\n",
        "images = []\n",
        "labels = []\n",
        "for filename in os.listdir(train_val_dir):\n",
        " if filename.endswith('.png'):\n",
        " # Load the images and resize them to (128, 128) with 3 color channels"
      ]
    }
  ]
}